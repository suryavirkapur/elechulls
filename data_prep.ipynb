{
 "cells": [
  {
   "cell_type": "code",
   "execution_count": 11,
   "metadata": {},
   "outputs": [],
   "source": [
    "def reformat_line(line):\n",
    "    # Split the line by spaces\n",
    "    parts = line.split()\n",
    "    \n",
    "    # Extract the necessary parts\n",
    "    g_val = parts[0]  # Only take the second character of the first part\n",
    "    f_val = parts[1][0]\n",
    "    year = parts[2]\n",
    "    month = parts[3]\n",
    "    number = parts[4]\n",
    "    \n",
    "    # Combine them in the desired format\n",
    "    # formatted_line = f\"{ord(g_val)}{f_val},{year},{month},{number}\"\n",
    "    formatted_line = f\"{ord(g_val)}{f_val},{year},{month}\"\n",
    "    \n",
    "    return formatted_line\n",
    "\n",
    "def process_file(input_filename, output_filename):\n",
    "    with open(input_filename, 'r') as infile, open(output_filename, 'w') as outfile:\n",
    "        for line in infile:\n",
    "            formatted_line = reformat_line(line.strip())\n",
    "            outfile.write(formatted_line + '\\n')\n",
    "\n",
    "# Define input and output file names\n",
    "input_filename = 'dat'\n",
    "output_filename = 'dat2'\n",
    "\n",
    "# Process the file\n",
    "process_file(input_filename, output_filename)\n"
   ]
  }
 ],
 "metadata": {
  "kernelspec": {
   "display_name": ".venv",
   "language": "python",
   "name": "python3"
  },
  "language_info": {
   "codemirror_mode": {
    "name": "ipython",
    "version": 3
   },
   "file_extension": ".py",
   "mimetype": "text/x-python",
   "name": "python",
   "nbconvert_exporter": "python",
   "pygments_lexer": "ipython3",
   "version": "3.11.8"
  }
 },
 "nbformat": 4,
 "nbformat_minor": 2
}
